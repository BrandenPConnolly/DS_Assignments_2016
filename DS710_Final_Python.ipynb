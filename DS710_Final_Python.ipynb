{
 "cells": [
  {
   "cell_type": "code",
   "execution_count": 11,
   "metadata": {
    "collapsed": false
   },
   "outputs": [
    {
     "data": {
      "text/plain": [
       "State\n",
       "FL     99\n",
       "WI    100\n",
       "Name: Tweet, dtype: int64"
      ]
     },
     "execution_count": 11,
     "metadata": {},
     "output_type": "execute_result"
    }
   ],
   "source": [
    "import tweepy\n",
    "import pandas as pd\n",
    "\n",
    "\n",
    "\n",
    "'''\n",
    "Connect to Twitter\n",
    "'''\n",
    "\n",
    "#Remember to delete when submitting\n",
    "con_key = 'AAAAAAAAAAAAAAAAAAAAA'#your consumer key goes here\n",
    "con_secret = 'BBBBBBBBBBBBBBBBBBB'#'your consumer secret goes here'\n",
    "acc_token = 'CCCCCCCCCCCCCCCC'#'your access token goes here'\n",
    "acc_secret = 'DDDDDDDDDDDDDDDDD'#'your access secret goes here'\n",
    "auth = tweepy.OAuthHandler(consumer_key=con_key, consumer_secret=con_secret)\n",
    "auth.set_access_token(acc_token, acc_secret)\n",
    "\n",
    "api = tweepy.API(auth)\n",
    "\n",
    "'''\n",
    "Pull florida related tweets\n",
    "'''\n",
    "\n",
    "y = []\n",
    "z = []\n",
    "\n",
    "for result in api.search(q='#%23florida',count = 300):\n",
    "    y.append(result.created_at)\n",
    "    z.append(result.text)\n",
    "    \n",
    "fltweets = pd.DataFrame(z,y)\n",
    "fltweets.columns = ['Tweet']\n",
    "fltweets['State'] = 'FL'\n",
    "fltweets['IsFlorida'] = '1'\n",
    "\n",
    "'''\n",
    "Pull Wisconsin Related Tweets\n",
    "'''\n",
    "\n",
    "a = []\n",
    "b = []\n",
    "\n",
    "for result in api.search(q='#%23wisconsin', count = 300):\n",
    "    a.append(result.created_at)\n",
    "    b.append(result.text)\n",
    "\n",
    "WItweets = pd.DataFrame(b,a)\n",
    "WItweets.columns = ['Tweet']\n",
    "#tweets.to_string('Tweet',error = 'coerce')\n",
    "WItweets['State'] = 'WI'\n",
    "WItweets['IsFlorida'] = '0'\n",
    "\n",
    "'''\n",
    "Combine florida and wisconsin tweets, put into a dataframe, and export as a csv\n",
    "'''\n",
    "tweets = [WItweets,fltweets]\n",
    "\n",
    "tweetsop = pd.concat(tweets)\n",
    "\n",
    "\n",
    "tweetsop.to_csv('/Users/brandenconnolly/Documents/DS710/ds710fall2016finalprojectproposal/fileop.csv')\n",
    "\n",
    "tweetsop.head(5)\n",
    "\n",
    "\n",
    "\n"
   ]
  },
  {
   "cell_type": "code",
   "execution_count": null,
   "metadata": {
    "collapsed": true
   },
   "outputs": [],
   "source": []
  },
  {
   "cell_type": "code",
   "execution_count": null,
   "metadata": {
    "collapsed": true
   },
   "outputs": [],
   "source": []
  }
 ],
 "metadata": {
  "anaconda-cloud": {},
  "kernelspec": {
   "display_name": "Python [Root]",
   "language": "python",
   "name": "Python [Root]"
  },
  "language_info": {
   "codemirror_mode": {
    "name": "ipython",
    "version": 3
   },
   "file_extension": ".py",
   "mimetype": "text/x-python",
   "name": "python",
   "nbconvert_exporter": "python",
   "pygments_lexer": "ipython3",
   "version": "3.5.2"
  }
 },
 "nbformat": 4,
 "nbformat_minor": 0
}
